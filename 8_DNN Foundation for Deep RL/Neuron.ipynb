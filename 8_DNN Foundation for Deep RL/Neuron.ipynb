{
 "cells": [
  {
   "cell_type": "code",
   "execution_count": 13,
   "metadata": {},
   "outputs": [],
   "source": [
    "from torchvision import datasets\n",
    "from torchvision import transforms\n",
    "import torch\n",
    "import torch.nn as nn\n",
    "import numpy as np\n",
    "import sys"
   ]
  },
  {
   "cell_type": "code",
   "execution_count": 14,
   "metadata": {},
   "outputs": [],
   "source": [
    "def weightedSum(inputs, weights):\n",
    "    input_tensor = torch.from_numpy(inputs)\n",
    "    weighted_sum_tensor = torch.matmul(weights, input_tensor)\n",
    "    return weighted_sum_tensor"
   ]
  },
  {
   "cell_type": "code",
   "execution_count": 15,
   "metadata": {},
   "outputs": [],
   "source": [
    "input_dim = 10\n",
    "n = 1000\n",
    "X = np.random.rand(n, input_dim)\n",
    "y = np.random.randint(0, 2, n)"
   ]
  },
  {
   "cell_type": "code",
   "execution_count": 16,
   "metadata": {},
   "outputs": [
    {
     "data": {
      "text/plain": [
       "(1000, 10)"
      ]
     },
     "execution_count": 16,
     "metadata": {},
     "output_type": "execute_result"
    }
   ],
   "source": [
    "X.shape"
   ]
  },
  {
   "cell_type": "code",
   "execution_count": 17,
   "metadata": {},
   "outputs": [],
   "source": [
    "weights = torch.tensor(np.random.uniform(0,1,input_dim), requires_grad=True)"
   ]
  },
  {
   "cell_type": "code",
   "execution_count": 18,
   "metadata": {},
   "outputs": [],
   "source": [
    "weighted_sum_result = weightedSum(X[0, :], weights)"
   ]
  },
  {
   "cell_type": "code",
   "execution_count": 19,
   "metadata": {},
   "outputs": [
    {
     "data": {
      "text/plain": [
       "tensor(2.3568, dtype=torch.float64, grad_fn=<DotBackward0>)"
      ]
     },
     "execution_count": 19,
     "metadata": {},
     "output_type": "execute_result"
    }
   ],
   "source": [
    "weighted_sum_result"
   ]
  },
  {
   "attachments": {},
   "cell_type": "markdown",
   "metadata": {},
   "source": [
    "# Building Neural Network with\n",
    "* 3 Computational Layer\n",
    "* layers = {2,3,1}"
   ]
  },
  {
   "cell_type": "code",
   "execution_count": 20,
   "metadata": {},
   "outputs": [],
   "source": [
    "input_dim = 1000\n",
    "layer_1_neurons = 2\n",
    "layer_2_neurons = 3\n",
    "layer_3_neurons = 1 # Output Layer"
   ]
  },
  {
   "cell_type": "code",
   "execution_count": 21,
   "metadata": {},
   "outputs": [],
   "source": [
    "def forward(inputs, weighted_list):\n",
    "    input_tensor = torch.from_numpy(inputs)\n",
    "    for weights in weighted_list:\n",
    "        input_tensor = torch.matmul(weights, input_tensor)\n",
    "    output_tensor = input_tensor\n",
    "    return output_tensor"
   ]
  },
  {
   "cell_type": "code",
   "execution_count": 22,
   "metadata": {},
   "outputs": [],
   "source": [
    "\n",
    "\n",
    "input_dim = 10\n",
    "layer_1_neurons = 2\n",
    "layer_2_neurons = 3\n",
    "layer_3_neurons = 5 # Output Layer\n",
    "\n",
    "weights_layer_1 = torch.tensor(np.random.uniform(0,1,(layer_1_neurons, input_dim)), requires_grad=True)\n",
    "weights_layer_2 = torch.tensor(np.random.uniform(0,1,(layer_2_neurons, layer_1_neurons)), requires_grad=True)\n",
    "weights_layer_3 = torch.tensor(np.random.uniform(0,1,(layer_3_neurons, layer_2_neurons)), requires_grad=True)\n",
    "\n",
    "weighted_list = []\n",
    "weighted_list.append(weights_layer_1)\n",
    "weighted_list.append(weights_layer_2)\n",
    "weighted_list.append(weights_layer_3)"
   ]
  },
  {
   "cell_type": "code",
   "execution_count": 26,
   "metadata": {},
   "outputs": [],
   "source": [
    "def sigmoidActivate(x):\n",
    "    return 1/(1+torch.exp(-x))"
   ]
  },
  {
   "cell_type": "code",
   "execution_count": null,
   "metadata": {},
   "outputs": [],
   "source": [
    "def updateParameters(weighted_list, d_weighted_list, learning_rate):\n",
    "    with torch.no_grad(): # \n",
    "        for i in range(len(weighted_list)):\n",
    "            weighted_list[i] -= learning_rate*d_weighted_list[i]\n",
    "    return weighted_list"
   ]
  },
  {
   "cell_type": "code",
   "execution_count": null,
   "metadata": {},
   "outputs": [],
   "source": [
    "def forward(inputs, weighted_list):\n",
    "    input_tensor = torch.from_numpy(inputs)\n",
    "    for weights in weighted_list:\n",
    "        input_tensor = torch.matmul(weights, input_tensor)\n",
    "        activated_tensor = sigmoidActivate(input_tensor)\n",
    "    output_tensor = activated_tensor\n",
    "    return output_tensor"
   ]
  },
  {
   "cell_type": "code",
   "execution_count": null,
   "metadata": {},
   "outputs": [],
   "source": [
    "loss_function = nn.BCELoss()"
   ]
  },
  {
   "cell_type": "code",
   "execution_count": null,
   "metadata": {},
   "outputs": [],
   "source": []
  },
  {
   "cell_type": "code",
   "execution_count": 29,
   "metadata": {},
   "outputs": [
    {
     "name": "stdout",
     "output_type": "stream",
     "text": [
      "<class 'torch.autograd.grad_mode.no_grad'>\n"
     ]
    }
   ],
   "source": [
    "print(torch.no_grad)"
   ]
  },
  {
   "cell_type": "code",
   "execution_count": null,
   "metadata": {},
   "outputs": [],
   "source": [
    "# Stochastic Gradient Descent:\n",
    "def stochasticGradientDescent(X, y, weighted_list, loss_function, learning_rate=0.0001, num_epochs=100):\n",
    "    for epoch in range(num_epochs):\n",
    "        average_loss = []\n",
    "        for i in range(len(y)): # Length of total data points\n",
    "            x_input = X[i, :]\n",
    "            y = y[i]\n",
    "            y_hat = "
   ]
  }
 ],
 "metadata": {
  "kernelspec": {
   "display_name": "Python 3",
   "language": "python",
   "name": "python3"
  },
  "language_info": {
   "codemirror_mode": {
    "name": "ipython",
    "version": 3
   },
   "file_extension": ".py",
   "mimetype": "text/x-python",
   "name": "python",
   "nbconvert_exporter": "python",
   "pygments_lexer": "ipython3",
   "version": "3.10.0"
  },
  "orig_nbformat": 4,
  "vscode": {
   "interpreter": {
    "hash": "5ee6f23f9c4d80c203dea4faa6a5d0c8cffa4ab65b221251ea7227320f350d1e"
   }
  }
 },
 "nbformat": 4,
 "nbformat_minor": 2
}
