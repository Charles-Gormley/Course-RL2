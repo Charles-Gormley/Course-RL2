{
 "cells": [
  {
   "cell_type": "code",
   "execution_count": 1,
   "metadata": {},
   "outputs": [],
   "source": [
    "class Field:\n",
    "    def __init__(self, size, item_pickup, item_dropoff, start_position):\n",
    "        self.size = size \n",
    "        self.item_pickup = item_pickup # Coordinate position of item pickup \n",
    "        self.item_dropoff = item_dropoff # Coordinate position of item drop-off\n",
    "        self.position = start_position\n",
    "        self.item_in_car = False\n",
    "        \n",
    "    def get_number_of_states(self):\n",
    "        ''''''\n",
    "        return self.size*self.size*self.size*self.size*2\n",
    "        \n",
    "        \n",
    "    def get_state(self):\n",
    "        state = self.position[0]*self.size*self.size*self.size*2\n",
    "        state = state + self.position[1]*self.size*self.size*2\n",
    "        state = state + self.item_pickup[0]*self.size*2\n",
    "        state = state + self.item_pickup[1]*2\n",
    "        \n",
    "        if self.item_in_car:\n",
    "            state = state + 1\n",
    "        return state\n",
    "        \n",
    "    def make_action(self, action):\n",
    "        (x,y) = self.position\n",
    "        if action == 0: #down\n",
    "            if y == self.size-1:\n",
    "                return -10, False\n",
    "            else:\n",
    "                self.position = (x, y+1)\n",
    "                return -1, False\n",
    "            \n",
    "        elif action == 1: #up\n",
    "            if y == 0:\n",
    "                return -10, False\n",
    "            else:\n",
    "                self.position = (x, y-1)\n",
    "                return -1, False\n",
    "            \n",
    "        elif action == 2: #left\n",
    "            if x == 0:\n",
    "                return -10, False\n",
    "            else:\n",
    "                self.position = (x-1, y)\n",
    "                return -1, False\n",
    "                \n",
    "        elif action == 3: #right\n",
    "            if x == self.size-1:\n",
    "                return -10, False\n",
    "            else:\n",
    "                self.position = (x+1, y)\n",
    "                return -1, False\n",
    "            \n",
    "        elif action == 4: # pickup\n",
    "            if self.item_in_car:\n",
    "                return -10, False\n",
    "            elif self.item_pickup != (x,y):\n",
    "                return -10, False\n",
    "            else:\n",
    "                self.item_in_car = True\n",
    "                return 20, False\n",
    "                \n",
    "        elif action == 5: #dropoff\n",
    "            if not self.item_in_car: # If the item is not in the car. \n",
    "                return -10, False\n",
    "            elif self.item_dropoff != (x,y):\n",
    "                self.item_pickup = (x,y)\n",
    "                self.item_in_car = False\n",
    "                return -10, False\n",
    "            else:\n",
    "                self.item_in_car = False\n",
    "                return 20, True"
   ]
  },
  {
   "cell_type": "code",
   "execution_count": 27,
   "metadata": {},
   "outputs": [],
   "source": [
    "size = 10\n",
    "item_pickup = (0,0)\n",
    "item_dropoff = (9,9)\n",
    "start_position = (9,0)\n",
    "\n",
    "field = Field(size, item_pickup, item_dropoff, start_position)"
   ]
  },
  {
   "cell_type": "code",
   "execution_count": 28,
   "metadata": {},
   "outputs": [
    {
     "data": {
      "text/plain": [
       "(9, 0)"
      ]
     },
     "execution_count": 28,
     "metadata": {},
     "output_type": "execute_result"
    }
   ],
   "source": [
    "field.position"
   ]
  },
  {
   "cell_type": "code",
   "execution_count": 29,
   "metadata": {},
   "outputs": [],
   "source": [
    "field.make_action(2)\n",
    "field.make_action(2)\n",
    "field.make_action(2)\n",
    "field.make_action(2)\n",
    "field.make_action(2)\n",
    "field.make_action(2)\n",
    "field.make_action(2)\n",
    "field.make_action(2)\n",
    "field.make_action(2)\n",
    "\n",
    "field.make_action(4)\n",
    "\n",
    "field.make_action(0)\n",
    "field.make_action(0)\n",
    "field.make_action(0)\n",
    "field.make_action(0)\n",
    "field.make_action(0)\n",
    "field.make_action(0)\n",
    "field.make_action(0)\n",
    "field.make_action(0)\n",
    "field.make_action(0)\n",
    "\n",
    "field.make_action(3)\n",
    "field.make_action(3)\n",
    "field.make_action(3)\n",
    "field.make_action(3)\n",
    "field.make_action(3)\n",
    "field.make_action(3)\n",
    "field.make_action(3)\n",
    "field.make_action(3)\n",
    "field.make_action(3)\n",
    "\n",
    "field.make_action(5)"
   ]
  },
  {
   "cell_type": "code",
   "execution_count": null,
   "metadata": {},
   "outputs": [],
   "source": []
  },
  {
   "cell_type": "code",
   "execution_count": 37,
   "metadata": {},
   "outputs": [],
   "source": [
    "import random"
   ]
  },
  {
   "cell_type": "code",
   "execution_count": 61,
   "metadata": {},
   "outputs": [],
   "source": [
    "# Random Solution\n",
    "def random_solution():\n",
    "    '''Implements a solution to the 'carrier problem' where the carrier moves with random actions and no reinforcement learning methodology.'''\n",
    "    size = 10\n",
    "    item_pickup = (0,0)\n",
    "    item_dropoff = (9,9)\n",
    "    start_position = (9,0)\n",
    "\n",
    "    field = Field(size, item_pickup, item_dropoff, start_position)\n",
    "    \n",
    "    done = False\n",
    "    steps = 0\n",
    "    \n",
    "    while not done:\n",
    "        action = random.randint(0,5) # Selects random integer for action\n",
    "        reward, done = field.make_action(action) # Makes action and obtains reward and done state.\n",
    "        steps = steps + 1 # Increments steps.\n",
    "        \n",
    "    return steps\n",
    "    "
   ]
  },
  {
   "cell_type": "code",
   "execution_count": 97,
   "metadata": {},
   "outputs": [
    {
     "data": {
      "text/plain": [
       "161407"
      ]
     },
     "execution_count": 97,
     "metadata": {},
     "output_type": "execute_result"
    }
   ],
   "source": [
    "random_solution()"
   ]
  },
  {
   "cell_type": "code",
   "execution_count": 69,
   "metadata": {},
   "outputs": [],
   "source": [
    "run = [random_solution() for _ in range(100)]"
   ]
  },
  {
   "cell_type": "code",
   "execution_count": 70,
   "metadata": {},
   "outputs": [
    {
     "data": {
      "text/plain": [
       "154913.37"
      ]
     },
     "execution_count": 70,
     "metadata": {},
     "output_type": "execute_result"
    }
   ],
   "source": [
    "sum(run)/len(run)"
   ]
  },
  {
   "cell_type": "code",
   "execution_count": 2,
   "metadata": {},
   "outputs": [],
   "source": [
    "# Q-Learning Algo\n",
    "import numpy as np\n",
    "import random"
   ]
  },
  {
   "cell_type": "code",
   "execution_count": 3,
   "metadata": {},
   "outputs": [],
   "source": [
    "size = 10\n",
    "item_pickup = (0,0)\n",
    "item_dropoff = (9,9)\n",
    "start_position = (9,0)\n",
    "\n",
    "field = Field(size, item_pickup, item_dropoff, start_position)\n",
    "\n",
    "number_of_states = field.get_number_of_states()\n",
    "number_of_actions = 6\n",
    "\n",
    "q_table = np.zeros((number_of_states, number_of_actions))\n",
    "\n",
    "epsilon = 0.1\n",
    "alpha = 0.1\n",
    "gamma = 0.6\n",
    "\n",
    "for _ in range(10000):\n",
    "    field = Field(size, item_pickup, item_dropoff, start_position)\n",
    "    done = False\n",
    "    \n",
    "    while not done:\n",
    "        state = field.get_state()        \n",
    "\n",
    "        # Epsilon is the percentage of time we want to explore.\n",
    "        if random.uniform(0,1) < epsilon: # Decision to explore or exploit. \n",
    "            action = random.randint(0,5) #Explore\n",
    "        else:\n",
    "            action = np.argmax(q_table[state]) #Exploit\n",
    "            \n",
    "        reward, done = field.make_action(action)\n",
    "        \n",
    "        new_state = field.get_state()\n",
    "        new_state_max = np.max(q_table[new_state])\n",
    "        \n",
    "        q_table[state, action] = (1-alpha)*q_table[state, action]+alpha*(reward+gamma*new_state_max - q_table[state, action])\n",
    "                        "
   ]
  },
  {
   "cell_type": "code",
   "execution_count": 4,
   "metadata": {},
   "outputs": [
    {
     "data": {
      "text/plain": [
       "array([[ 0.23071429, -2.06428571, -2.06428571,  0.23071429,  9.78571429,\n",
       "        -2.06428571],\n",
       "       [-0.71428571, -5.21428571, -5.21428571, -0.71428571, -5.21428571,\n",
       "        -2.06428571],\n",
       "       [ 1.51061586, -1.        , -1.        , -0.1       , -1.        ,\n",
       "        -1.        ],\n",
       "       ...,\n",
       "       [-1.33071063,  0.08268536, -0.25      , -1.44779836, -1.54175457,\n",
       "        10.27464764],\n",
       "       [ 0.        ,  0.        ,  0.        ,  0.        ,  0.        ,\n",
       "         0.        ],\n",
       "       [ 0.        ,  0.        ,  0.        ,  0.        ,  0.        ,\n",
       "         0.        ]])"
      ]
     },
     "execution_count": 4,
     "metadata": {},
     "output_type": "execute_result"
    }
   ],
   "source": [
    "q_table"
   ]
  },
  {
   "cell_type": "code",
   "execution_count": 58,
   "metadata": {},
   "outputs": [],
   "source": [
    "def reinforcement_solution():\n",
    "    epsilon = 0.08\n",
    "    alpha = 0.1\n",
    "    gamma = 0.6\n",
    "    \n",
    "    field = Field(size, item_pickup, item_dropoff, start_position)\n",
    "    done = False\n",
    "    steps = 0\n",
    "    \n",
    "    while not done:\n",
    "        state = field.get_state()\n",
    "        if random.uniform(0,1) < epsilon:\n",
    "            action = random.randint(0,5) #Explore\n",
    "        else:\n",
    "            action = np.argmax(q_table[state]) #Exploit\n",
    "            \n",
    "        reward, done = field.make_action(action)\n",
    "        \n",
    "        new_state = field.get_state()\n",
    "        new_state_max = np.max(q_table[new_state])\n",
    "        \n",
    "        q_table[state, action] = (1-alpha)*q_table[state, action]+alpha*(reward+gamma*new_state_max - q_table[state, action])\n",
    "                        \n",
    "        steps = steps +1\n",
    "        \n",
    "    return steps"
   ]
  },
  {
   "cell_type": "code",
   "execution_count": 59,
   "metadata": {},
   "outputs": [
    {
     "data": {
      "text/plain": [
       "29"
      ]
     },
     "execution_count": 59,
     "metadata": {},
     "output_type": "execute_result"
    }
   ],
   "source": [
    "reinforcement_solution()"
   ]
  },
  {
   "cell_type": "code",
   "execution_count": 62,
   "metadata": {},
   "outputs": [],
   "source": [
    "run = [reinforcement_solution() for _ in range(100)]"
   ]
  },
  {
   "cell_type": "code",
   "execution_count": 63,
   "metadata": {},
   "outputs": [
    {
     "data": {
      "text/plain": [
       "50.92"
      ]
     },
     "execution_count": 63,
     "metadata": {},
     "output_type": "execute_result"
    }
   ],
   "source": [
    "sum(run)/len(run)"
   ]
  }
 ],
 "metadata": {
  "kernelspec": {
   "display_name": "Python 3",
   "language": "python",
   "name": "python3"
  },
  "language_info": {
   "codemirror_mode": {
    "name": "ipython",
    "version": 3
   },
   "file_extension": ".py",
   "mimetype": "text/x-python",
   "name": "python",
   "nbconvert_exporter": "python",
   "pygments_lexer": "ipython3",
   "version": "3.10.0"
  },
  "vscode": {
   "interpreter": {
    "hash": "5ee6f23f9c4d80c203dea4faa6a5d0c8cffa4ab65b221251ea7227320f350d1e"
   }
  }
 },
 "nbformat": 4,
 "nbformat_minor": 4
}
