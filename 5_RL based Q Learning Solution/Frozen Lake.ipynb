{
 "cells": [
  {
   "cell_type": "code",
   "execution_count": 52,
   "metadata": {},
   "outputs": [],
   "source": [
    "import numpy as np\n",
    "import gym # pip intall gym\n",
    "import random"
   ]
  },
  {
   "cell_type": "code",
   "execution_count": 53,
   "metadata": {},
   "outputs": [],
   "source": [
    "env = gym.make('FrozenLake-v1', is_slippery = False) # Instantiating gym object"
   ]
  },
  {
   "cell_type": "code",
   "execution_count": 54,
   "metadata": {},
   "outputs": [
    {
     "name": "stdout",
     "output_type": "stream",
     "text": [
      "Q Table\n",
      " [[0. 0. 0. 0.]\n",
      " [0. 0. 0. 0.]\n",
      " [0. 0. 0. 0.]\n",
      " [0. 0. 0. 0.]\n",
      " [0. 0. 0. 0.]\n",
      " [0. 0. 0. 0.]\n",
      " [0. 0. 0. 0.]\n",
      " [0. 0. 0. 0.]\n",
      " [0. 0. 0. 0.]\n",
      " [0. 0. 0. 0.]\n",
      " [0. 0. 0. 0.]\n",
      " [0. 0. 0. 0.]\n",
      " [0. 0. 0. 0.]\n",
      " [0. 0. 0. 0.]\n",
      " [0. 0. 0. 0.]\n",
      " [0. 0. 0. 0.]]\n"
     ]
    }
   ],
   "source": [
    "action_space_size = env.action_space.n # Number of possible actions in each of these states in the frozen lake game.\n",
    "state_space_size = env.observation_space.n # Number of states for the frozen lake game\n",
    "\n",
    "qtable = np.zeros((state_space_size, action_space_size)) # Creating q tabel from state spaces and action space states.\n",
    "print(\"Q Table\\n\",qtable) "
   ]
  },
  {
   "cell_type": "code",
   "execution_count": 55,
   "metadata": {},
   "outputs": [],
   "source": [
    "total_episodes = 10000 # Number of times we want our agent to play the game to fill the q-table.\n",
    "learning_rate = 0.2 # Learning Rate \n",
    "max_steps = 100\n",
    "gamma = 0.99\n",
    "\n",
    "epsilon = 1\n",
    "max_epsilon = 1\n",
    "min_epsilon = 0.01\n",
    "decay_rate = 0.001"
   ]
  },
  {
   "cell_type": "code",
   "execution_count": 56,
   "metadata": {},
   "outputs": [
    {
     "name": "stdout",
     "output_type": "stream",
     "text": [
      "Score: 87.92%\n",
      "[[0.94148015 0.95099005 0.93206535 0.94148015]\n",
      " [0.94148015 0.         0.92190736 0.93201897]\n",
      " [0.93197552 0.29134814 0.6311653  0.8573256 ]\n",
      " [0.79744731 0.         0.04112673 0.34098788]\n",
      " [0.95099005 0.96059601 0.         0.94148015]\n",
      " [0.         0.         0.         0.        ]\n",
      " [0.         0.97102458 0.         0.44659748]\n",
      " [0.         0.         0.         0.        ]\n",
      " [0.96059601 0.         0.970299   0.95099005]\n",
      " [0.96059601 0.9801     0.9801     0.        ]\n",
      " [0.96960674 0.99       0.         0.92813135]\n",
      " [0.         0.         0.         0.        ]\n",
      " [0.         0.         0.         0.        ]\n",
      " [0.         0.9801     0.99       0.970299  ]\n",
      " [0.9801     0.99       1.         0.9801    ]\n",
      " [0.         0.         0.         0.        ]]\n"
     ]
    }
   ],
   "source": [
    "rewards = []\n",
    "\n",
    "for episode in range(total_episodes):\n",
    "    state, info = env.reset()\n",
    "    step = 0\n",
    "    done = False\n",
    "    total_rewards = 0\n",
    "    for step in range(max_steps):\n",
    "        \n",
    "        if random.uniform(0,1) > epsilon:\n",
    "            action = np.argmax(qtable[state,:]) # Exploit\n",
    "        else:\n",
    "            action = env.action_space.sample() # Explore\n",
    "\n",
    "        new_state, reward, done, truncated, info = env.step(action)\n",
    "        \n",
    "        max_new_state = np.max(qtable[new_state,:])\n",
    "        \n",
    "        qtable[state,action] = qtable[state, action] + learning_rate*(reward+gamma*max_new_state-qtable[state,action])\n",
    "        total_rewards += reward\n",
    "        \n",
    "        state = new_state\n",
    "        if done:\n",
    "            break\n",
    "            \n",
    "    epsilon = min_epsilon + (max_epsilon - min_epsilon)*np.exp(-decay_rate*episode) # Decreasing the probability of exploring as episodes increase.\n",
    "    rewards.append(total_rewards) \n",
    "    \n",
    "print(\"Score:\", str(sum(rewards)/total_episodes*100) + \"%\")\n",
    "print(qtable)"
   ]
  },
  {
   "cell_type": "code",
   "execution_count": 57,
   "metadata": {},
   "outputs": [
    {
     "name": "stdout",
     "output_type": "stream",
     "text": [
      "Episode: 1\n",
      "Number of Steps: 5\n"
     ]
    }
   ],
   "source": [
    "env.reset()\n",
    "\n",
    "for episode in range(1):\n",
    "    state, info = env.reset()\n",
    "    step = 0\n",
    "    done = False\n",
    "    \n",
    "    print(\"Episode:\", episode+1)\n",
    "    \n",
    "    for step in range(max_steps):\n",
    "        action = np.argmax(qtable[state,:])\n",
    "        new_state, reward, done, truncated, info = env.step(action)\n",
    "        \n",
    "        if done:\n",
    "            \n",
    "            print(\"Number of Steps:\", step)\n",
    "            break\n",
    "        state = new_state\n",
    "        \n",
    "env.close()"
   ]
  },
  {
   "attachments": {},
   "cell_type": "markdown",
   "metadata": {},
   "source": [
    "# SARSA"
   ]
  },
  {
   "attachments": {},
   "cell_type": "markdown",
   "metadata": {},
   "source": [
    "SARSA Hyper-Parameters"
   ]
  },
  {
   "cell_type": "code",
   "execution_count": 61,
   "metadata": {},
   "outputs": [],
   "source": [
    "total_episodes = 100000 # INCREASE NUMBER OF EPISODES FOR SARSA\n",
    "learning_rate = 0.2 # Learning Rate \n",
    "max_steps = 100\n",
    "gamma = 0.99\n",
    "\n",
    "epsilon = 1\n",
    "max_epsilon = 1\n",
    "min_epsilon = 0.01\n",
    "decay_rate = 0.001"
   ]
  },
  {
   "cell_type": "code",
   "execution_count": 62,
   "metadata": {},
   "outputs": [
    {
     "name": "stdout",
     "output_type": "stream",
     "text": [
      "Score: 97.03399999999999%\n",
      "[[0.5886471  0.5720508  0.94832426 0.5889198 ]\n",
      " [0.5902236  0.         0.95982367 0.51071018]\n",
      " [0.59185449 0.97014088 0.59089818 0.66300633]\n",
      " [0.59088956 0.         0.56924608 0.45360084]\n",
      " [0.71363063 0.71120136 0.         0.71336351]\n",
      " [0.         0.         0.         0.        ]\n",
      " [0.         0.98007246 0.         0.77698245]\n",
      " [0.         0.         0.         0.        ]\n",
      " [0.78623331 0.         0.77520013 0.83373464]\n",
      " [0.8424861  0.97957525 0.8546465  0.        ]\n",
      " [0.93902983 0.99       0.         0.91809905]\n",
      " [0.         0.         0.         0.        ]\n",
      " [0.         0.         0.         0.        ]\n",
      " [0.         0.97995938 0.99       0.97025411]\n",
      " [0.98009982 0.99       1.         0.98008605]\n",
      " [0.         0.         0.         0.        ]]\n"
     ]
    }
   ],
   "source": [
    "rewards = []\n",
    "qtable = np.zeros((state_space_size, action_space_size)) # Reinstantiating the q-table\n",
    "for episode in range(total_episodes):\n",
    "    state, info = env.reset()\n",
    "    step = 0\n",
    "    done = False\n",
    "    total_rewards = 0\n",
    "    for step in range(max_steps):\n",
    "        \n",
    "        if random.uniform(0,1) > epsilon:\n",
    "            action = np.argmax(qtable[state,:]) # Exploit\n",
    "        else:\n",
    "            action = env.action_space.sample() # Explore\n",
    "\n",
    "        new_state, reward, done, truncated, info = env.step(action)\n",
    "\n",
    "        if random.uniform(0,1) > epsilon:\n",
    "            new_action = np.argmax(qtable[new_state,:]) # Exploit\n",
    "        else:\n",
    "            new_action = env.action_space.sample() # Explore\n",
    "        \n",
    "        sarsa_new_state = np.max(qtable[new_state, new_action])\n",
    "        \n",
    "        qtable[state,action] = qtable[state, action] + learning_rate*(reward+gamma*sarsa_new_state-qtable[state,action])\n",
    "        total_rewards += reward\n",
    "        \n",
    "        state = new_state\n",
    "        if done:\n",
    "            break\n",
    "            \n",
    "    epsilon = min_epsilon + (max_epsilon - min_epsilon)*np.exp(-decay_rate*episode) # Decreasing the probability of exploring as episodes increase.\n",
    "    rewards.append(total_rewards) \n",
    "    \n",
    "print(\"Score:\", str(sum(rewards)/total_episodes*100) + \"%\")\n",
    "print(qtable)"
   ]
  }
 ],
 "metadata": {
  "kernelspec": {
   "display_name": "Python 3",
   "language": "python",
   "name": "python3"
  },
  "language_info": {
   "codemirror_mode": {
    "name": "ipython",
    "version": 3
   },
   "file_extension": ".py",
   "mimetype": "text/x-python",
   "name": "python",
   "nbconvert_exporter": "python",
   "pygments_lexer": "ipython3",
   "version": "3.10.0"
  },
  "vscode": {
   "interpreter": {
    "hash": "5ee6f23f9c4d80c203dea4faa6a5d0c8cffa4ab65b221251ea7227320f350d1e"
   }
  }
 },
 "nbformat": 4,
 "nbformat_minor": 4
}
